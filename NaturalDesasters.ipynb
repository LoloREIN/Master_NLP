{
 "cells": [
  {
   "cell_type": "markdown",
   "metadata": {},
   "source": [
    "### NLP Natural Disaster tweet classifier\n",
    "\n",
    "<div size=50% ><b><i>Lorenzo Reinoso Fuentes   --     mail: loloreinoso03@gmail.com</b><i></div>                   \n",
    "<div size=50%>0212511 UP</div>"
   ]
  },
  {
   "cell_type": "code",
   "execution_count": null,
   "metadata": {},
   "outputs": [],
   "source": [
    "import numpy as np\n",
    "embeddings = {}\n",
    "\n",
    "with open(\"tweet_disaster.csv\", encoding=\"utf-8\") as f:\n",
    "    for line in f:\n",
    "        values = line.split()\n",
    "        word = values[0]\n",
    "        vectors = np.asarray(values[1:])\n",
    "        embeddings[word] = vectors"
   ]
  },
  {
   "cell_type": "code",
   "execution_count": 1,
   "metadata": {},
   "outputs": [
    {
     "ename": "NameError",
     "evalue": "name 'df' is not defined",
     "output_type": "error",
     "traceback": [
      "\u001b[0;31m---------------------------------------------------------------------------\u001b[0m",
      "\u001b[0;31mNameError\u001b[0m                                 Traceback (most recent call last)",
      "\u001b[1;32m/Users/lorenzoreinoso/Documents/Master_NLP/NaturalDesasters.ipynb Cell 2\u001b[0m line \u001b[0;36m6\n\u001b[1;32m      <a href='vscode-notebook-cell:/Users/lorenzoreinoso/Documents/Master_NLP/NaturalDesasters.ipynb#W3sZmlsZQ%3D%3D?line=0'>1</a>\u001b[0m \u001b[39m# Mapp 1 to \"real disaster\" and 0 to \"not-real disaster\"\u001b[39;00m\n\u001b[1;32m      <a href='vscode-notebook-cell:/Users/lorenzoreinoso/Documents/Master_NLP/NaturalDesasters.ipynb#W3sZmlsZQ%3D%3D?line=1'>2</a>\u001b[0m mapper \u001b[39m=\u001b[39m {\n\u001b[1;32m      <a href='vscode-notebook-cell:/Users/lorenzoreinoso/Documents/Master_NLP/NaturalDesasters.ipynb#W3sZmlsZQ%3D%3D?line=2'>3</a>\u001b[0m     \u001b[39m1\u001b[39m:\u001b[39m\"\u001b[39m\u001b[39mreal disaster\u001b[39m\u001b[39m\"\u001b[39m,\n\u001b[1;32m      <a href='vscode-notebook-cell:/Users/lorenzoreinoso/Documents/Master_NLP/NaturalDesasters.ipynb#W3sZmlsZQ%3D%3D?line=3'>4</a>\u001b[0m     \u001b[39m0\u001b[39m:\u001b[39m\"\u001b[39m\u001b[39mnot-real disaster\u001b[39m\u001b[39m\"\u001b[39m\n\u001b[1;32m      <a href='vscode-notebook-cell:/Users/lorenzoreinoso/Documents/Master_NLP/NaturalDesasters.ipynb#W3sZmlsZQ%3D%3D?line=4'>5</a>\u001b[0m }\n\u001b[0;32m----> <a href='vscode-notebook-cell:/Users/lorenzoreinoso/Documents/Master_NLP/NaturalDesasters.ipynb#W3sZmlsZQ%3D%3D?line=5'>6</a>\u001b[0m df[\u001b[39m\"\u001b[39m\u001b[39mclickbait\u001b[39m\u001b[39m\"\u001b[39m] \u001b[39m=\u001b[39m df[\u001b[39m\"\u001b[39m\u001b[39mclickbait\u001b[39m\u001b[39m\"\u001b[39m]\u001b[39m.\u001b[39mmap(mapper)\n\u001b[1;32m      <a href='vscode-notebook-cell:/Users/lorenzoreinoso/Documents/Master_NLP/NaturalDesasters.ipynb#W3sZmlsZQ%3D%3D?line=6'>7</a>\u001b[0m df\u001b[39m.\u001b[39mhead()\n",
      "\u001b[0;31mNameError\u001b[0m: name 'df' is not defined"
     ]
    }
   ],
   "source": [
    "# Mapp 1 to \"real disaster\" and 0 to \"not-real disaster\"\n",
    "mapper = {\n",
    "    1:\"real disaster\",\n",
    "    0:\"not-real disaster\"\n",
    "}\n",
    "df[\"clickbait\"] = df[\"clickbait\"].map(mapper)\n",
    "df.head()"
   ]
  },
  {
   "cell_type": "code",
   "execution_count": null,
   "metadata": {},
   "outputs": [],
   "source": []
  }
 ],
 "metadata": {
  "kernelspec": {
   "display_name": "Python 3",
   "language": "python",
   "name": "python3"
  },
  "language_info": {
   "codemirror_mode": {
    "name": "ipython",
    "version": 3
   },
   "file_extension": ".py",
   "mimetype": "text/x-python",
   "name": "python",
   "nbconvert_exporter": "python",
   "pygments_lexer": "ipython3",
   "version": "3.11.5"
  },
  "orig_nbformat": 4
 },
 "nbformat": 4,
 "nbformat_minor": 2
}
