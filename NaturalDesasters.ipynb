{
 "cells": [
  {
   "cell_type": "markdown",
   "metadata": {},
   "source": [
    "### NLP Natural Disaster tweet classifier\n",
    "\n",
    "<div size=50% ><b><i>Lorenzo Reinoso Fuentes   --     mail: loloreinoso03@gmail.com</b><i></div>                   \n",
    "<div size=50%>0212511 UP</div>"
   ]
  },
  {
   "cell_type": "code",
   "execution_count": 17,
   "metadata": {},
   "outputs": [
    {
     "data": {
      "text/html": [
       "<div>\n",
       "<style scoped>\n",
       "    .dataframe tbody tr th:only-of-type {\n",
       "        vertical-align: middle;\n",
       "    }\n",
       "\n",
       "    .dataframe tbody tr th {\n",
       "        vertical-align: top;\n",
       "    }\n",
       "\n",
       "    .dataframe thead th {\n",
       "        text-align: right;\n",
       "    }\n",
       "</style>\n",
       "<table border=\"1\" class=\"dataframe\">\n",
       "  <thead>\n",
       "    <tr style=\"text-align: right;\">\n",
       "      <th></th>\n",
       "      <th>text</th>\n",
       "      <th>target</th>\n",
       "    </tr>\n",
       "  </thead>\n",
       "  <tbody>\n",
       "    <tr>\n",
       "      <th>0</th>\n",
       "      <td>Our Deeds are the Reason of this #earthquake M...</td>\n",
       "      <td>1</td>\n",
       "    </tr>\n",
       "    <tr>\n",
       "      <th>1</th>\n",
       "      <td>Forest fire near La Ronge Sask. Canada</td>\n",
       "      <td>1</td>\n",
       "    </tr>\n",
       "    <tr>\n",
       "      <th>2</th>\n",
       "      <td>All residents asked to 'shelter in place' are ...</td>\n",
       "      <td>1</td>\n",
       "    </tr>\n",
       "    <tr>\n",
       "      <th>3</th>\n",
       "      <td>13,000 people receive #wildfires evacuation or...</td>\n",
       "      <td>1</td>\n",
       "    </tr>\n",
       "    <tr>\n",
       "      <th>4</th>\n",
       "      <td>Just got sent this photo from Ruby #Alaska as ...</td>\n",
       "      <td>1</td>\n",
       "    </tr>\n",
       "    <tr>\n",
       "      <th>...</th>\n",
       "      <td>...</td>\n",
       "      <td>...</td>\n",
       "    </tr>\n",
       "    <tr>\n",
       "      <th>7608</th>\n",
       "      <td>Two giant cranes holding a bridge collapse int...</td>\n",
       "      <td>1</td>\n",
       "    </tr>\n",
       "    <tr>\n",
       "      <th>7609</th>\n",
       "      <td>@aria_ahrary @TheTawniest The out of control w...</td>\n",
       "      <td>1</td>\n",
       "    </tr>\n",
       "    <tr>\n",
       "      <th>7610</th>\n",
       "      <td>M1.94 [01:04 UTC]?5km S of Volcano Hawaii. htt...</td>\n",
       "      <td>1</td>\n",
       "    </tr>\n",
       "    <tr>\n",
       "      <th>7611</th>\n",
       "      <td>Police investigating after an e-bike collided ...</td>\n",
       "      <td>1</td>\n",
       "    </tr>\n",
       "    <tr>\n",
       "      <th>7612</th>\n",
       "      <td>The Latest: More Homes Razed by Northern Calif...</td>\n",
       "      <td>1</td>\n",
       "    </tr>\n",
       "  </tbody>\n",
       "</table>\n",
       "<p>7613 rows × 2 columns</p>\n",
       "</div>"
      ],
      "text/plain": [
       "                                                   text  target\n",
       "0     Our Deeds are the Reason of this #earthquake M...       1\n",
       "1                Forest fire near La Ronge Sask. Canada       1\n",
       "2     All residents asked to 'shelter in place' are ...       1\n",
       "3     13,000 people receive #wildfires evacuation or...       1\n",
       "4     Just got sent this photo from Ruby #Alaska as ...       1\n",
       "...                                                 ...     ...\n",
       "7608  Two giant cranes holding a bridge collapse int...       1\n",
       "7609  @aria_ahrary @TheTawniest The out of control w...       1\n",
       "7610  M1.94 [01:04 UTC]?5km S of Volcano Hawaii. htt...       1\n",
       "7611  Police investigating after an e-bike collided ...       1\n",
       "7612  The Latest: More Homes Razed by Northern Calif...       1\n",
       "\n",
       "[7613 rows x 2 columns]"
      ]
     },
     "execution_count": 17,
     "metadata": {},
     "output_type": "execute_result"
    }
   ],
   "source": [
    "# dependencies, all files and libraries needes to run the proyect Python\n",
    "import numpy as np\n",
    "import pandas as pd\n",
    "from nltk.corpus import stopwords\n",
    "from nltk import word_tokenize\n",
    "from nltk.stem.wordnet import WordNetLemmatizer\n",
    "import re\n",
    "df_Original =  pd.read_csv(\"tweet_disaster.csv\")\n",
    "df = df_Original[['text','target']].copy()\n",
    "df"
   ]
  },
  {
   "cell_type": "code",
   "execution_count": 20,
   "metadata": {},
   "outputs": [],
   "source": [
    "def pre_processing(texto):\n",
    "    resultado = texto.lower()\n",
    "    lemmatizer = WordNetLemmatizer()\n",
    "    stop_words_en = stopwords.words(\"English\")\n",
    "    stop_words_en.append(\"u\")\n",
    "    resultado = re.sub(r\"(@[A-Za-z0-9_]+)|((https?:\\/\\/)?(www\\.)?[-a-zA-Z0-9@:%._\\+~#=]{2,256}\\.[a-z]{2,6}\\b([-a-zA-Z0-9@:%_\\+.~#?&//=]*))|([^A-Za-z0-9 \\-\\t])\", \"\", resultado)\n",
    "    resultado = re.sub(r\"(\\s\\s\\s)|(\\s\\s)|(\\-)|(\\t)\", \" \", resultado) \n",
    "    resultado = word_tokenize(resultado)\n",
    "    resultado = [lemmatizer.lemmatize(word) for word in resultado]\n",
    "    resultado = [token for token in resultado if token not in stop_words_en]\n",
    "    resultado = \" \".join(resultado)\n",
    "\n",
    "    return resultado"
   ]
  },
  {
   "cell_type": "code",
   "execution_count": 21,
   "metadata": {},
   "outputs": [
    {
     "data": {
      "text/html": [
       "<div>\n",
       "<style scoped>\n",
       "    .dataframe tbody tr th:only-of-type {\n",
       "        vertical-align: middle;\n",
       "    }\n",
       "\n",
       "    .dataframe tbody tr th {\n",
       "        vertical-align: top;\n",
       "    }\n",
       "\n",
       "    .dataframe thead th {\n",
       "        text-align: right;\n",
       "    }\n",
       "</style>\n",
       "<table border=\"1\" class=\"dataframe\">\n",
       "  <thead>\n",
       "    <tr style=\"text-align: right;\">\n",
       "      <th></th>\n",
       "      <th>text</th>\n",
       "      <th>target</th>\n",
       "    </tr>\n",
       "  </thead>\n",
       "  <tbody>\n",
       "    <tr>\n",
       "      <th>0</th>\n",
       "      <td>Our Deeds are the Reason of this #earthquake M...</td>\n",
       "      <td>NaN</td>\n",
       "    </tr>\n",
       "    <tr>\n",
       "      <th>1</th>\n",
       "      <td>Forest fire near La Ronge Sask. Canada</td>\n",
       "      <td>NaN</td>\n",
       "    </tr>\n",
       "    <tr>\n",
       "      <th>2</th>\n",
       "      <td>All residents asked to 'shelter in place' are ...</td>\n",
       "      <td>NaN</td>\n",
       "    </tr>\n",
       "    <tr>\n",
       "      <th>3</th>\n",
       "      <td>13,000 people receive #wildfires evacuation or...</td>\n",
       "      <td>NaN</td>\n",
       "    </tr>\n",
       "    <tr>\n",
       "      <th>4</th>\n",
       "      <td>Just got sent this photo from Ruby #Alaska as ...</td>\n",
       "      <td>NaN</td>\n",
       "    </tr>\n",
       "  </tbody>\n",
       "</table>\n",
       "</div>"
      ],
      "text/plain": [
       "                                                text target\n",
       "0  Our Deeds are the Reason of this #earthquake M...    NaN\n",
       "1             Forest fire near La Ronge Sask. Canada    NaN\n",
       "2  All residents asked to 'shelter in place' are ...    NaN\n",
       "3  13,000 people receive #wildfires evacuation or...    NaN\n",
       "4  Just got sent this photo from Ruby #Alaska as ...    NaN"
      ]
     },
     "execution_count": 21,
     "metadata": {},
     "output_type": "execute_result"
    }
   ],
   "source": [
    "# Mapp 1 to \"real disaster\" and 0 to \"not-real disaster\"\n",
    "mapper = {\n",
    "    1:\"real disaster\",\n",
    "    0:\"not-real disaster\"\n",
    "}\n",
    "df[\"target\"] = df[\"target\"].map(mapper)\n",
    "df.head()"
   ]
  },
  {
   "cell_type": "code",
   "execution_count": 22,
   "metadata": {},
   "outputs": [],
   "source": [
    "# Create a new column with the processed text \n",
    "df[\"clean_text\"] = df[\"text\"].apply(pre_processing)"
   ]
  },
  {
   "cell_type": "code",
   "execution_count": 23,
   "metadata": {},
   "outputs": [],
   "source": [
    "# Word cloud code\n",
    "def Word_cloud_doble(df,image, n_gram = 1, estilo = \"viridis\"):\n",
    "    cloud_T = \"\".join(df[df[\"clickbait\"]==\"clickbait\"][\"Headline_clean\"])\n",
    "    cloud_F = \"\".join( df[df[\"clickbait\"]==\"Non-clickbait\"][\"Headline_clean\"])\n",
    "    mask = np.array(Image.open(image))\n",
    "    def generate_wordcloud(cloud_text, title, position):\n",
    "        vocab = []\n",
    "        for ngram in ngrams(word_tokenize(cloud_text), n_gram):\n",
    "            resultado = \" \".join(ngram)\n",
    "            vocab.append(resultado)\n",
    "        result_word = dict(pd.Series(vocab).value_counts())\n",
    "\n",
    "        wordcloud = WordCloud(\n",
    "            width=600,\n",
    "            height=600,\n",
    "            colormap=estilo,\n",
    "            background_color=\"black\",\n",
    "            mask=mask,\n",
    "            min_font_size=6\n",
    "        ).generate_from_frequencies(result_word)\n",
    "\n",
    "        plt.subplot(1, 2, position)\n",
    "        plt.imshow(wordcloud)\n",
    "        plt.title(title, fontsize=16)\n",
    "        plt.axis(\"off\")\n",
    "\n",
    "    plt.figure(figsize=(12, 6))\n",
    "    generate_wordcloud(cloud_T, \"Clickbait\", 1)\n",
    "    generate_wordcloud(cloud_F, \"Non-Clickbait\", 2)\n",
    "\n",
    "    plt.tight_layout()\n",
    "    plt.show()"
   ]
  },
  {
   "cell_type": "code",
   "execution_count": 24,
   "metadata": {},
   "outputs": [
    {
     "ename": "NameError",
     "evalue": "name 'disaster' is not defined",
     "output_type": "error",
     "traceback": [
      "\u001b[0;31m---------------------------------------------------------------------------\u001b[0m",
      "\u001b[0;31mNameError\u001b[0m                                 Traceback (most recent call last)",
      "\u001b[1;32m/Users/lorenzoreinoso/Documents/Master_NLP/NaturalDesasters.ipynb Cell 7\u001b[0m line \u001b[0;36m1\n\u001b[0;32m----> <a href='vscode-notebook-cell:/Users/lorenzoreinoso/Documents/Master_NLP/NaturalDesasters.ipynb#X13sZmlsZQ%3D%3D?line=0'>1</a>\u001b[0m Word_cloud_doble(df,disaster\u001b[39m.\u001b[39mpng)\n",
      "\u001b[0;31mNameError\u001b[0m: name 'disaster' is not defined"
     ]
    }
   ],
   "source": [
    "Word_cloud_doble(df,disaster.png)"
   ]
  },
  {
   "cell_type": "code",
   "execution_count": null,
   "metadata": {},
   "outputs": [],
   "source": []
  }
 ],
 "metadata": {
  "kernelspec": {
   "display_name": "Python 3",
   "language": "python",
   "name": "python3"
  },
  "language_info": {
   "codemirror_mode": {
    "name": "ipython",
    "version": 3
   },
   "file_extension": ".py",
   "mimetype": "text/x-python",
   "name": "python",
   "nbconvert_exporter": "python",
   "pygments_lexer": "ipython3",
   "version": "3.11.5"
  },
  "orig_nbformat": 4
 },
 "nbformat": 4,
 "nbformat_minor": 2
}
